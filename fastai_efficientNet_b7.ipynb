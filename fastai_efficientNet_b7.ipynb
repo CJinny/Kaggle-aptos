{
 "cells": [
  {
   "cell_type": "code",
   "execution_count": 1,
   "metadata": {
    "_cell_guid": "79c7e3d0-c299-4dcb-8224-4455121ee9b0",
    "_uuid": "d629ff2d2480ee46fbb7e2d37f6b5fab8052498a"
   },
   "outputs": [
    {
     "name": "stdout",
     "output_type": "stream",
     "text": [
      "Make sure cudnn is enabled: True\n"
     ]
    }
   ],
   "source": [
    "%reload_ext autoreload\n",
    "%autoreload 2\n",
    "%matplotlib inline\n",
    "\n",
    "import os\n",
    "os.listdir('../input')\n",
    "import sys\n",
    "import random\n",
    "import json\n",
    "from functools import partial\n",
    "from collections import OrderedDict, Counter\n",
    "import numpy as np\n",
    "import pandas as pd\n",
    "import scipy as sp\n",
    "import matplotlib.pyplot as plt\n",
    "from PIL import Image\n",
    "\n",
    "from sklearn import metrics\n",
    "from sklearn.metrics import cohen_kappa_score\n",
    "from sklearn.model_selection import StratifiedKFold\n",
    "import torch\n",
    "import torch.nn as nn\n",
    "from fastai import *\n",
    "from fastai.vision import *\n",
    "from fastai.vision import (cnn_learner, models, get_transforms, \n",
    "                           ImageList, FloatList, ResizeMethod, imagenet_stats,\n",
    "                           ClassificationInterpretation)\n",
    "from fastai.vision import Learner, DatasetType\n",
    "print('Make sure cudnn is enabled:', torch.backends.cudnn.enabled)"
   ]
  },
  {
   "cell_type": "code",
   "execution_count": 2,
   "metadata": {},
   "outputs": [
    {
     "name": "stdout",
     "output_type": "stream",
     "text": [
      "Collecting efficientnet-pytorch\r\n",
      "  Downloading https://files.pythonhosted.org/packages/12/f8/35453605c6c471fc406a137a894fb381b05ae9f174b2ca4956592512374e/efficientnet_pytorch-0.4.0.tar.gz\r\n",
      "Requirement already satisfied, skipping upgrade: torch in /opt/conda/lib/python3.6/site-packages (from efficientnet-pytorch) (1.2.0)\r\n",
      "Requirement already satisfied, skipping upgrade: numpy in /opt/conda/lib/python3.6/site-packages (from torch->efficientnet-pytorch) (1.17.0)\r\n",
      "Building wheels for collected packages: efficientnet-pytorch\r\n",
      "  Building wheel for efficientnet-pytorch (setup.py) ... \u001b[?25l-\b \b\\\b \bdone\r\n",
      "\u001b[?25h  Created wheel for efficientnet-pytorch: filename=efficientnet_pytorch-0.4.0-cp36-none-any.whl size=11149 sha256=2be1d20f6b5bfb22ae7fbbe7d729c1030b347f12e3b372b64445ff94dfd9ede8\r\n",
      "  Stored in directory: /tmp/.cache/pip/wheels/27/56/13/5bdaa98ca8bd7d5da65cc741987dd14391b87fa1a09081d17a\r\n",
      "Successfully built efficientnet-pytorch\r\n",
      "Installing collected packages: efficientnet-pytorch\r\n",
      "Successfully installed efficientnet-pytorch-0.4.0\r\n"
     ]
    }
   ],
   "source": [
    "# effnet_pac_path = '../input/efficientnet-pytorch/efficientnet-pytorch/EfficientNet-PyTorch-master'\n",
    "# sys.path.append(effnet_pac_path)\n",
    "\n",
    "!pip install --upgrade efficientnet-pytorch\n",
    "from efficientnet_pytorch import EfficientNet"
   ]
  },
  {
   "cell_type": "code",
   "execution_count": 3,
   "metadata": {},
   "outputs": [],
   "source": [
    "# Making pretrained weights work without needing to find the default filename\n",
    "if not os.path.exists('/tmp/.cache/torch/checkpoints/'):\n",
    "        os.makedirs('/tmp/.cache/torch/checkpoints/')\n",
    "# !cp '../input/resnet50/resnet50.pth' '/tmp/.cache/torch/checkpoints/resnet50-19c8e357.pth'"
   ]
  },
  {
   "cell_type": "code",
   "execution_count": 4,
   "metadata": {},
   "outputs": [],
   "source": [
    "def seed_everything(seed):\n",
    "    random.seed(seed)\n",
    "    os.environ['PYTHONHASHSEED'] = str(seed)\n",
    "    np.random.seed(seed)\n",
    "    torch.manual_seed(seed)\n",
    "    torch.cuda.manual_seed(seed)\n",
    "    torch.backends.cudnn.deterministic = True"
   ]
  },
  {
   "cell_type": "code",
   "execution_count": 5,
   "metadata": {},
   "outputs": [],
   "source": [
    "def quadratic_kappa(y_hat, y):\n",
    "    scores = cohen_kappa_score(torch.round(y_hat), y, weights='quadratic')\n",
    "    return torch.tensor(scores, device='cuda:0')"
   ]
  },
  {
   "cell_type": "code",
   "execution_count": 6,
   "metadata": {},
   "outputs": [],
   "source": [
    "def load_efficientnet(model_name='efficientnet-b7', model_path=None, pretrained=True):\n",
    "    model = EfficientNet.from_name(model_name, override_params={'num_classes': 1})\n",
    "    if not pretrained:\n",
    "        return model\n",
    "    \n",
    "    model_state = torch.load(model_path)\n",
    "    if '_fc.weight' in model_state.keys():\n",
    "        model_state.pop('_fc.weight')\n",
    "        model_state.pop('_fc.bias')\n",
    "        res = model.load_state_dict(model_state, strict=False)\n",
    "        assert str(res.missing_keys) == str(['_fc.weight', '_fc.bias']), 'issue loading pretrained weights'\n",
    "    else:\n",
    "        # A basic remapping is required\n",
    "        mapping = { i:o for i,o in zip(model_state.keys(), model.state_dict().keys()) }\n",
    "        mapped_model_state = OrderedDict([\n",
    "            (mapping[k], v) for k,v in model_state.items() if not mapping[k].startswith('_fc')\n",
    "        ])\n",
    "        res = model.load_state_dict(mapped_model_state, strict=False)\n",
    "        # print(res)\n",
    "    return model"
   ]
  },
  {
   "cell_type": "code",
   "execution_count": 7,
   "metadata": {},
   "outputs": [],
   "source": [
    "bs = BATCH_SIZE = 32  # 64 # smaller batch size is better for training, but may take longer\n",
    "sz = IMG_SIZE = 256"
   ]
  },
  {
   "cell_type": "markdown",
   "metadata": {},
   "source": [
    "## Seed 2019"
   ]
  },
  {
   "cell_type": "code",
   "execution_count": 8,
   "metadata": {},
   "outputs": [],
   "source": [
    "# SEED = 2019\n",
    "# seed_everything(SEED)"
   ]
  },
  {
   "cell_type": "code",
   "execution_count": 9,
   "metadata": {},
   "outputs": [
    {
     "data": {
      "text/plain": [
       "\"\\nbase_image_dir = '../input/aptos2019-blindness-detection/'\\ntrain_dir = os.path.join(base_image_dir,'train_images/')\\ndf = pd.read_csv(os.path.join(base_image_dir, 'train.csv'))\\ndf['path'] = df['id_code'].map(lambda x: os.path.join(train_dir,'{}.png'.format(x)))\\ndf = df.drop(columns=['id_code'])\\ndf = df.sample(frac=1).reset_index(drop=True) #shuffle dataframe\\npd.set_option('display.max_colwidth', -1)\\ndf.head()\\n\""
      ]
     },
     "execution_count": 9,
     "metadata": {},
     "output_type": "execute_result"
    }
   ],
   "source": [
    "'''\n",
    "base_image_dir = '../input/aptos2019-blindness-detection/'\n",
    "train_dir = os.path.join(base_image_dir,'train_images/')\n",
    "df = pd.read_csv(os.path.join(base_image_dir, 'train.csv'))\n",
    "df['path'] = df['id_code'].map(lambda x: os.path.join(train_dir,'{}.png'.format(x)))\n",
    "df = df.drop(columns=['id_code'])\n",
    "df = df.sample(frac=1).reset_index(drop=True) #shuffle dataframe\n",
    "pd.set_option('display.max_colwidth', -1)\n",
    "df.head()\n",
    "'''"
   ]
  },
  {
   "cell_type": "code",
   "execution_count": 10,
   "metadata": {},
   "outputs": [
    {
     "data": {
      "text/plain": [
       "\"\\ntfms = get_transforms(do_flip=True, flip_vert=True, \\n                      max_rotate=360, max_warp=0, max_zoom=1.1, max_lighting=0.1, p_lighting=0.5)\\n\\ndata = (ImageList\\n    .from_df(df=df,path='./',cols='path') #get dataset from dataset\\n    # .split_by_rand_pct(0.2, seed=SEED) #Splitting the dataset\\n    .split_by_rand_pct(0.2)\\n    .label_from_df(cols='diagnosis',label_cls=FloatList) #obtain labels from the level column\\n    .transform(tfms, size=IMG_SIZE, resize_method=ResizeMethod.SQUISH, padding_mode='zeros')\\n    .databunch(bs=BATCH_SIZE, num_workers=4) #DataBunch\\n    .normalize(imagenet_stats) #Normalize\\n)\\n\""
      ]
     },
     "execution_count": 10,
     "metadata": {},
     "output_type": "execute_result"
    }
   ],
   "source": [
    "'''\n",
    "tfms = get_transforms(do_flip=True, flip_vert=True, \n",
    "                      max_rotate=360, max_warp=0, max_zoom=1.1, max_lighting=0.1, p_lighting=0.5)\n",
    "\n",
    "data = (ImageList\n",
    "    .from_df(df=df,path='./',cols='path') #get dataset from dataset\n",
    "    # .split_by_rand_pct(0.2, seed=SEED) #Splitting the dataset\n",
    "    .split_by_rand_pct(0.2)\n",
    "    .label_from_df(cols='diagnosis',label_cls=FloatList) #obtain labels from the level column\n",
    "    .transform(tfms, size=IMG_SIZE, resize_method=ResizeMethod.SQUISH, padding_mode='zeros')\n",
    "    .databunch(bs=BATCH_SIZE, num_workers=4) #DataBunch\n",
    "    .normalize(imagenet_stats) #Normalize\n",
    ")\n",
    "'''"
   ]
  },
  {
   "cell_type": "code",
   "execution_count": 11,
   "metadata": {},
   "outputs": [],
   "source": [
    "# effnet_path = '../input/efficientnet-pytorch/efficientnet-b5-586e6cc6.pth'\n",
    "# model = load_efficientnet(model_name='efficientnet-b5', model_path=effnet_path)\n",
    "\n",
    "# learn = Learner(data, model, metrics=[quadratic_kappa]).to_fp16()"
   ]
  },
  {
   "cell_type": "code",
   "execution_count": 12,
   "metadata": {},
   "outputs": [],
   "source": [
    "# learn.lr_find()\n",
    "# learn.recorder.plot(suggestion=True)"
   ]
  },
  {
   "cell_type": "code",
   "execution_count": 13,
   "metadata": {},
   "outputs": [],
   "source": [
    "# learn.fit_one_cycle(4, max_lr=3e-3)\n",
    "\n",
    "# learn.unfreeze()\n",
    "# learn.lr_find()\n",
    "# learn.recorder.plot(suggestion=True)\n",
    "\n",
    "# learn.fit_one_cycle(10, max_lr=1e-3)\n",
    "# learn.save('seed2019-stage-2')"
   ]
  },
  {
   "cell_type": "code",
   "execution_count": 14,
   "metadata": {},
   "outputs": [],
   "source": [
    "# del df, tfms, data, model, learn"
   ]
  },
  {
   "cell_type": "markdown",
   "metadata": {},
   "source": [
    "## Seed 9012"
   ]
  },
  {
   "cell_type": "code",
   "execution_count": 15,
   "metadata": {},
   "outputs": [],
   "source": [
    "# SEED = 9012\n",
    "# seed_everything(SEED)\n",
    "\n",
    "# base_image_dir = '../input/aptos2019-blindness-detection/'\n",
    "# train_dir = os.path.join(base_image_dir,'train_images/')\n",
    "# df = pd.read_csv(os.path.join(base_image_dir, 'train.csv'))\n",
    "# df['path'] = df['id_code'].map(lambda x: os.path.join(train_dir,'{}.png'.format(x)))\n",
    "# df = df.drop(columns=['id_code'])\n",
    "# df = df.sample(frac=1).reset_index(drop=True) #shuffle dataframe\n",
    "# pd.set_option('display.max_colwidth', -1)\n",
    "# df.head()"
   ]
  },
  {
   "cell_type": "code",
   "execution_count": 16,
   "metadata": {},
   "outputs": [],
   "source": [
    "# tfms = get_transforms(do_flip=True, flip_vert=True, \n",
    "#                       max_rotate=360, max_warp=0, max_zoom=1.1, max_lighting=0.1, p_lighting=0.5)\n",
    "\n",
    "# data = (ImageList\n",
    "#     .from_df(df=df,path='./',cols='path') #get dataset from dataset\n",
    "#     .split_by_rand_pct(0.2, seed=SEED) #Splitting the dataset\n",
    "#     .label_from_df(cols='diagnosis',label_cls=FloatList) #obtain labels from the level column\n",
    "#     .transform(tfms, size=IMG_SIZE, resize_method=ResizeMethod.SQUISH, padding_mode='zeros')\n",
    "#     .databunch(bs=BATCH_SIZE, num_workers=4) #DataBunch\n",
    "#     .normalize(imagenet_stats) #Normalize\n",
    "# )"
   ]
  },
  {
   "cell_type": "code",
   "execution_count": 17,
   "metadata": {},
   "outputs": [],
   "source": [
    "# effnet_path = '../input/efficientnet-pytorch/efficientnet-b5-586e6cc6.pth'\n",
    "# model = load_efficientnet(model_name='efficientnet-b5', model_path=effnet_path)\n",
    "\n",
    "# learn = Learner(data, model, metrics=[quadratic_kappa]).to_fp16()"
   ]
  },
  {
   "cell_type": "code",
   "execution_count": 18,
   "metadata": {},
   "outputs": [],
   "source": [
    "# learn.lr_find()\n",
    "# learn.recorder.plot(suggestion=True)\n",
    "\n",
    "# learn.fit_one_cycle(4, max_lr=3e-3)\n",
    "\n",
    "# learn.unfreeze()\n",
    "# learn.lr_find()\n",
    "# learn.recorder.plot(suggestion=True)\n",
    "\n",
    "# learn.fit_one_cycle(10, max_lr=1e-3)\n",
    "# learn.save('seed9012-stage-2')"
   ]
  },
  {
   "cell_type": "code",
   "execution_count": 19,
   "metadata": {},
   "outputs": [],
   "source": [
    "# del df, tfms, data, model, learn"
   ]
  },
  {
   "cell_type": "markdown",
   "metadata": {},
   "source": [
    "## Seed 1111"
   ]
  },
  {
   "cell_type": "code",
   "execution_count": 20,
   "metadata": {},
   "outputs": [],
   "source": [
    "SEED = 1111\n",
    "seed_everything(SEED)"
   ]
  },
  {
   "cell_type": "code",
   "execution_count": 21,
   "metadata": {},
   "outputs": [
    {
     "data": {
      "text/html": [
       "<div>\n",
       "<style scoped>\n",
       "    .dataframe tbody tr th:only-of-type {\n",
       "        vertical-align: middle;\n",
       "    }\n",
       "\n",
       "    .dataframe tbody tr th {\n",
       "        vertical-align: top;\n",
       "    }\n",
       "\n",
       "    .dataframe thead th {\n",
       "        text-align: right;\n",
       "    }\n",
       "</style>\n",
       "<table border=\"1\" class=\"dataframe\">\n",
       "  <thead>\n",
       "    <tr style=\"text-align: right;\">\n",
       "      <th></th>\n",
       "      <th>diagnosis</th>\n",
       "      <th>path</th>\n",
       "    </tr>\n",
       "  </thead>\n",
       "  <tbody>\n",
       "    <tr>\n",
       "      <th>0</th>\n",
       "      <td>3</td>\n",
       "      <td>../input/aptos2019-blindness-detection/train_images/33778d136069.png</td>\n",
       "    </tr>\n",
       "    <tr>\n",
       "      <th>1</th>\n",
       "      <td>2</td>\n",
       "      <td>../input/aptos2019-blindness-detection/train_images/15cd5f52d300.png</td>\n",
       "    </tr>\n",
       "    <tr>\n",
       "      <th>2</th>\n",
       "      <td>4</td>\n",
       "      <td>../input/aptos2019-blindness-detection/train_images/7efc91af4ae6.png</td>\n",
       "    </tr>\n",
       "    <tr>\n",
       "      <th>3</th>\n",
       "      <td>2</td>\n",
       "      <td>../input/aptos2019-blindness-detection/train_images/34723fae6475.png</td>\n",
       "    </tr>\n",
       "    <tr>\n",
       "      <th>4</th>\n",
       "      <td>2</td>\n",
       "      <td>../input/aptos2019-blindness-detection/train_images/aca88f566228.png</td>\n",
       "    </tr>\n",
       "  </tbody>\n",
       "</table>\n",
       "</div>"
      ],
      "text/plain": [
       "   diagnosis  \\\n",
       "0  3           \n",
       "1  2           \n",
       "2  4           \n",
       "3  2           \n",
       "4  2           \n",
       "\n",
       "                                                                   path  \n",
       "0  ../input/aptos2019-blindness-detection/train_images/33778d136069.png  \n",
       "1  ../input/aptos2019-blindness-detection/train_images/15cd5f52d300.png  \n",
       "2  ../input/aptos2019-blindness-detection/train_images/7efc91af4ae6.png  \n",
       "3  ../input/aptos2019-blindness-detection/train_images/34723fae6475.png  \n",
       "4  ../input/aptos2019-blindness-detection/train_images/aca88f566228.png  "
      ]
     },
     "execution_count": 21,
     "metadata": {},
     "output_type": "execute_result"
    }
   ],
   "source": [
    "base_image_dir = '../input/aptos2019-blindness-detection/'\n",
    "train_dir = os.path.join(base_image_dir,'train_images/')\n",
    "df = pd.read_csv(os.path.join(base_image_dir, 'train.csv'))\n",
    "df['path'] = df['id_code'].map(lambda x: os.path.join(train_dir,'{}.png'.format(x)))\n",
    "df = df.drop(columns=['id_code'])\n",
    "df = df.sample(frac=1).reset_index(drop=True) #shuffle dataframe\n",
    "pd.set_option('display.max_colwidth', -1)\n",
    "df.head()"
   ]
  },
  {
   "cell_type": "code",
   "execution_count": 22,
   "metadata": {},
   "outputs": [],
   "source": [
    "tfms = get_transforms(do_flip=True, flip_vert=True, \n",
    "                      max_rotate=360, max_warp=0, max_zoom=1.1, max_lighting=0.1, p_lighting=0.5)\n",
    "\n",
    "data = (ImageList\n",
    "    .from_df(df=df,path='./',cols='path') #get dataset from dataset\n",
    "    .split_by_rand_pct(0.2, seed=SEED) #Splitting the dataset\n",
    "    .label_from_df(cols='diagnosis',label_cls=FloatList) #obtain labels from the level column\n",
    "    .transform(tfms, size=IMG_SIZE, resize_method=ResizeMethod.SQUISH, padding_mode='zeros')\n",
    "    .databunch(bs=BATCH_SIZE, num_workers=4) #DataBunch\n",
    "    .normalize(imagenet_stats) #Normalize\n",
    ")"
   ]
  },
  {
   "cell_type": "code",
   "execution_count": 23,
   "metadata": {},
   "outputs": [
    {
     "data": {
      "text/html": [],
      "text/plain": [
       "<IPython.core.display.HTML object>"
      ]
     },
     "metadata": {},
     "output_type": "display_data"
    },
    {
     "name": "stdout",
     "output_type": "stream",
     "text": [
      "LR Finder is complete, type {learner_name}.recorder.plot() to see the graph.\n",
      "Min numerical gradient: 1.32E-06\n",
      "Min loss divided by 10: 2.29E-03\n"
     ]
    },
    {
     "data": {
      "text/html": [
       "<table border=\"1\" class=\"dataframe\">\n",
       "  <thead>\n",
       "    <tr style=\"text-align: left;\">\n",
       "      <th>epoch</th>\n",
       "      <th>train_loss</th>\n",
       "      <th>valid_loss</th>\n",
       "      <th>quadratic_kappa</th>\n",
       "      <th>time</th>\n",
       "    </tr>\n",
       "  </thead>\n",
       "  <tbody>\n",
       "    <tr>\n",
       "      <td>0</td>\n",
       "      <td>0.669058</td>\n",
       "      <td>0.965385</td>\n",
       "      <td>0.798032</td>\n",
       "      <td>08:36</td>\n",
       "    </tr>\n",
       "    <tr>\n",
       "      <td>1</td>\n",
       "      <td>0.545190</td>\n",
       "      <td>0.832888</td>\n",
       "      <td>0.715140</td>\n",
       "      <td>08:29</td>\n",
       "    </tr>\n",
       "    <tr>\n",
       "      <td>2</td>\n",
       "      <td>0.435261</td>\n",
       "      <td>0.585609</td>\n",
       "      <td>0.820140</td>\n",
       "      <td>08:32</td>\n",
       "    </tr>\n",
       "    <tr>\n",
       "      <td>3</td>\n",
       "      <td>0.330338</td>\n",
       "      <td>0.259111</td>\n",
       "      <td>0.902286</td>\n",
       "      <td>08:29</td>\n",
       "    </tr>\n",
       "  </tbody>\n",
       "</table>"
      ],
      "text/plain": [
       "<IPython.core.display.HTML object>"
      ]
     },
     "metadata": {},
     "output_type": "display_data"
    },
    {
     "data": {
      "text/html": [],
      "text/plain": [
       "<IPython.core.display.HTML object>"
      ]
     },
     "metadata": {},
     "output_type": "display_data"
    },
    {
     "name": "stdout",
     "output_type": "stream",
     "text": [
      "LR Finder is complete, type {learner_name}.recorder.plot() to see the graph.\n",
      "Min numerical gradient: 6.31E-07\n",
      "Min loss divided by 10: 1.00E-06\n"
     ]
    },
    {
     "data": {
      "text/html": [
       "<table border=\"1\" class=\"dataframe\">\n",
       "  <thead>\n",
       "    <tr style=\"text-align: left;\">\n",
       "      <th>epoch</th>\n",
       "      <th>train_loss</th>\n",
       "      <th>valid_loss</th>\n",
       "      <th>quadratic_kappa</th>\n",
       "      <th>time</th>\n",
       "    </tr>\n",
       "  </thead>\n",
       "  <tbody>\n",
       "    <tr>\n",
       "      <td>0</td>\n",
       "      <td>0.264951</td>\n",
       "      <td>0.249199</td>\n",
       "      <td>0.898835</td>\n",
       "      <td>08:22</td>\n",
       "    </tr>\n",
       "    <tr>\n",
       "      <td>1</td>\n",
       "      <td>0.277622</td>\n",
       "      <td>0.302384</td>\n",
       "      <td>0.881483</td>\n",
       "      <td>08:23</td>\n",
       "    </tr>\n",
       "    <tr>\n",
       "      <td>2</td>\n",
       "      <td>0.295619</td>\n",
       "      <td>0.385007</td>\n",
       "      <td>0.879079</td>\n",
       "      <td>08:19</td>\n",
       "    </tr>\n",
       "    <tr>\n",
       "      <td>3</td>\n",
       "      <td>0.299216</td>\n",
       "      <td>0.275647</td>\n",
       "      <td>0.900704</td>\n",
       "      <td>08:21</td>\n",
       "    </tr>\n",
       "    <tr>\n",
       "      <td>4</td>\n",
       "      <td>0.270904</td>\n",
       "      <td>0.252332</td>\n",
       "      <td>0.904017</td>\n",
       "      <td>08:21</td>\n",
       "    </tr>\n",
       "    <tr>\n",
       "      <td>5</td>\n",
       "      <td>0.243368</td>\n",
       "      <td>0.292182</td>\n",
       "      <td>0.879091</td>\n",
       "      <td>08:21</td>\n",
       "    </tr>\n",
       "    <tr>\n",
       "      <td>6</td>\n",
       "      <td>0.234717</td>\n",
       "      <td>0.242222</td>\n",
       "      <td>0.911074</td>\n",
       "      <td>08:21</td>\n",
       "    </tr>\n",
       "    <tr>\n",
       "      <td>7</td>\n",
       "      <td>0.203950</td>\n",
       "      <td>0.203438</td>\n",
       "      <td>0.925802</td>\n",
       "      <td>08:24</td>\n",
       "    </tr>\n",
       "    <tr>\n",
       "      <td>8</td>\n",
       "      <td>0.163226</td>\n",
       "      <td>0.205196</td>\n",
       "      <td>0.924278</td>\n",
       "      <td>08:22</td>\n",
       "    </tr>\n",
       "    <tr>\n",
       "      <td>9</td>\n",
       "      <td>0.155534</td>\n",
       "      <td>0.204972</td>\n",
       "      <td>0.921101</td>\n",
       "      <td>08:22</td>\n",
       "    </tr>\n",
       "  </tbody>\n",
       "</table>"
      ],
      "text/plain": [
       "<IPython.core.display.HTML object>"
      ]
     },
     "metadata": {},
     "output_type": "display_data"
    },
    {
     "data": {
      "image/png": "[encoded data removed]",
      "text/plain": [
       "<Figure size 432x288 with 1 Axes>"
      ]
     },
     "metadata": {
      "needs_background": "light"
     },
     "output_type": "display_data"
    },
    {
     "data": {
      "image/png": "[encoded data removed]",
      "text/plain": [
       "<Figure size 432x288 with 1 Axes>"
      ]
     },
     "metadata": {
      "needs_background": "light"
     },
     "output_type": "display_data"
    }
   ],
   "source": [
    "effnet_path = '../input/efficientnet-pytorch/efficientnet-b5-586e6cc6.pth'\n",
    "model = load_efficientnet(model_name='efficientnet-b5', model_path=effnet_path)\n",
    "\n",
    "learn = Learner(data, model, metrics=[quadratic_kappa]).to_fp16()\n",
    "\n",
    "learn.lr_find()\n",
    "learn.recorder.plot(suggestion=True)\n",
    "\n",
    "learn.fit_one_cycle(4, max_lr=3e-3)\n",
    "\n",
    "learn.unfreeze()\n",
    "learn.lr_find()\n",
    "learn.recorder.plot(suggestion=True)\n",
    "\n",
    "learn.fit_one_cycle(10, max_lr=1e-3)\n",
    "learn.save('seed1111-stage-2')"
   ]
  },
  {
   "cell_type": "code",
   "execution_count": 24,
   "metadata": {},
   "outputs": [],
   "source": [
    "# del df, tfms, data, model, learn"
   ]
  },
  {
   "cell_type": "code",
   "execution_count": null,
   "metadata": {},
   "outputs": [],
   "source": []
  }
 ],
 "metadata": {
  "kernelspec": {
   "display_name": "Python 3",
   "language": "python",
   "name": "python3"
  },
  "language_info": {
   "codemirror_mode": {
    "name": "ipython",
    "version": 3
   },
   "file_extension": ".py",
   "mimetype": "text/x-python",
   "name": "python",
   "nbconvert_exporter": "python",
   "pygments_lexer": "ipython3",
   "version": "3.6.6"
  }
 },
 "nbformat": 4,
 "nbformat_minor": 1
}
