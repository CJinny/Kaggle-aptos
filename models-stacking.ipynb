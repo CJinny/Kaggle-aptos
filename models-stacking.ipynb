{
 "cells": [
  {
   "cell_type": "markdown",
   "metadata": {},
   "source": [
    "versions:\n",
    "* v1: "
   ]
  },
  {
   "cell_type": "code",
   "execution_count": 1,
   "metadata": {
    "_cell_guid": "79c7e3d0-c299-4dcb-8224-4455121ee9b0",
    "_uuid": "d629ff2d2480ee46fbb7e2d37f6b5fab8052498a"
   },
   "outputs": [],
   "source": [
    "%reload_ext autoreload\n",
    "%autoreload 2\n",
    "%matplotlib inline\n",
    "\n",
    "import os\n",
    "import sys\n",
    "import re\n",
    "import random\n",
    "import math\n",
    "import json\n",
    "import collections\n",
    "from collections import Counter\n",
    "from joblib import load, dump\n",
    "from functools import partial\n",
    "import numpy as np\n",
    "import pandas as pd\n",
    "import scipy as sp\n",
    "import seaborn as sns\n",
    "import matplotlib.pyplot as plt\n",
    "from matplotlib import style\n",
    "\n",
    "import torch\n",
    "from torchvision import models as md\n",
    "from torch import nn\n",
    "from torch.nn import functional as F\n",
    "from torch.utils import model_zoo\n",
    "# from fastai import *\n",
    "# from fastai.vision import *\n",
    "from fastai.vision import (Learner, ImageList, get_transforms, imagenet_stats, \n",
    "                           DatasetType, FloatList, ResizeMethod)\n",
    "# from fastai.callbacks import *\n",
    "from sklearn import metrics\n",
    "from sklearn.model_selection import StratifiedKFold\n",
    "from sklearn.metrics import cohen_kappa_score\n",
    "from sklearn.metrics import confusion_matrix\n",
    "\n",
    "package_dir = \"../input/efficientnet-pytorch/efficientnet-pytorch/EfficientNet-PyTorch-master\"\n",
    "sys.path.insert(0, package_dir)\n",
    "from efficientnet_pytorch import EfficientNet\n",
    "from efficientnet_pytorch.model import MBConvBlock\n",
    "from efficientnet_pytorch import utils"
   ]
  },
  {
   "cell_type": "code",
   "execution_count": 2,
   "metadata": {},
   "outputs": [],
   "source": [
    "#copying weighst to the local directory \n",
    "!mkdir models\n",
    "!cp '../input/searchb5f1v4/search-b5-f1-v4-stage-2.pth' 'models'\n",
    "!cp '../input/fastai-eff-train-f1-models/b6_f1_v4_stage_4_best.pth' 'models'\n",
    "!cp '../input/fastai-eff-train-f1-models/b7_f1_v2_stage_5_best.pth' 'models'\n",
    "!cp '../input/kaggle-public/abcdef.pth' 'models'"
   ]
  },
  {
   "cell_type": "code",
   "execution_count": 3,
   "metadata": {},
   "outputs": [],
   "source": [
    "def seed_everything(seed):\n",
    "    random.seed(seed)\n",
    "    os.environ['PYTHONHASHSEED'] = str(seed)\n",
    "    np.random.seed(seed)\n",
    "    torch.manual_seed(seed)\n",
    "    torch.cuda.manual_seed(seed)\n",
    "    torch.backends.cudnn.deterministic = True\n",
    "\n",
    "SEED = 2019  # 999\n",
    "seed_everything(SEED)"
   ]
  },
  {
   "cell_type": "code",
   "execution_count": 4,
   "metadata": {},
   "outputs": [],
   "source": [
    "def get_df():\n",
    "    base_image_dir = '../input/aptos2019-blindness-detection/'\n",
    "    train_dir = os.path.join(base_image_dir, 'train_images/')\n",
    "    train_df = pd.read_csv(os.path.join(base_image_dir, 'train.csv'))\n",
    "    train_df['path'] = train_df['id_code'].map(lambda x: os.path.join(train_dir, '{}.png'.format(x)))\n",
    "    train_df = train_df.drop(columns=['id_code'])\n",
    "    train_df = train_df.sample(frac=1).reset_index(drop=True)  # shuffle dataframe\n",
    "    test_df = pd.read_csv('../input/aptos2019-blindness-detection/sample_submission.csv')\n",
    "    return train_df, test_df\n",
    "\n",
    "train_df, test_df = get_df()"
   ]
  },
  {
   "cell_type": "code",
   "execution_count": 5,
   "metadata": {},
   "outputs": [],
   "source": [
    "def quadratic_kappa(y_pred, y):\n",
    "    scores = cohen_kappa_score(torch.round(y_pred), y, weights='quadratic')\n",
    "    return torch.tensor(scores, device='cuda:0')"
   ]
  },
  {
   "cell_type": "code",
   "execution_count": 6,
   "metadata": {},
   "outputs": [],
   "source": [
    "class OptimizedRounder(object):\n",
    "    def __init__(self):\n",
    "        self.coef_ = 0\n",
    "\n",
    "    def _kappa_loss(self, coef, X, y):\n",
    "        X_p = np.copy(X)\n",
    "        for i, pred in enumerate(X_p):\n",
    "            if pred < coef[0]:\n",
    "                X_p[i] = 0\n",
    "            elif pred >= coef[0] and pred < coef[1]:\n",
    "                X_p[i] = 1\n",
    "            elif pred >= coef[1] and pred < coef[2]:\n",
    "                X_p[i] = 2\n",
    "            elif pred >= coef[2] and pred < coef[3]:\n",
    "                X_p[i] = 3\n",
    "            else:\n",
    "                X_p[i] = 4\n",
    "\n",
    "        ll = cohen_kappa_score(y, X_p, weights='quadratic')\n",
    "        return -ll\n",
    "\n",
    "    def fit(self, X, y):\n",
    "        loss_partial = partial(self._kappa_loss, X=X, y=y)\n",
    "        initial_coef = [0.5, 1.5, 2.5, 3.5]\n",
    "        self.coef_ = sp.optimize.minimize(loss_partial, initial_coef, method='nelder-mead')\n",
    "        print(-loss_partial(self.coef_['x']))\n",
    "\n",
    "    def predict(self, X, coef):\n",
    "        X_p = np.copy(X)\n",
    "        for i, pred in enumerate(X_p):\n",
    "            if pred < coef[0]:\n",
    "                X_p[i] = 0\n",
    "            elif pred >= coef[0] and pred < coef[1]:\n",
    "                X_p[i] = 1\n",
    "            elif pred >= coef[1] and pred < coef[2]:\n",
    "                X_p[i] = 2\n",
    "            elif pred >= coef[2] and pred < coef[3]:\n",
    "                X_p[i] = 3\n",
    "            else:\n",
    "                X_p[i] = 4\n",
    "        return X_p\n",
    "\n",
    "    def coefficients(self):\n",
    "        return self.coef_['x']"
   ]
  },
  {
   "cell_type": "code",
   "execution_count": 7,
   "metadata": {},
   "outputs": [],
   "source": [
    "# you can play around with tfms and image sizes\n",
    "bs = BATCH_SIZE = 32\n",
    "sz = IMG_SIZE = 256\n",
    "coef = [0.57, 1.37, 2.57, 3.57]\n",
    "tfms = get_transforms(do_flip=True, flip_vert=True)"
   ]
  },
  {
   "cell_type": "code",
   "execution_count": 8,
   "metadata": {},
   "outputs": [],
   "source": [
    "data = (ImageList.from_df(df=train_df, path='./', cols='path')\n",
    "        .split_by_rand_pct(0.2)\n",
    "        .label_from_df(cols='diagnosis',label_cls=FloatList) \n",
    "        .transform(tfms, size=IMG_SIZE, resize_method=ResizeMethod.SQUISH, padding_mode='zeros') \n",
    "        .databunch(bs=BATCH_SIZE, num_workers=4)\n",
    "        .normalize(imagenet_stats))"
   ]
  },
  {
   "cell_type": "code",
   "execution_count": 9,
   "metadata": {},
   "outputs": [],
   "source": [
    "# model 01\n",
    "netname = 'efficientnet-b5'\n",
    "md_ef = EfficientNet.from_name(netname, override_params={'num_classes': 1})\n",
    "\n",
    "learn = Learner(data, md_ef, \n",
    "                metrics=[quadratic_kappa], model_dir=\"models\").to_fp16()\n",
    "\n",
    "df_path = '../input/aptos2019-blindness-detection'\n",
    "learn.data.add_test(ImageList.from_df(test_df, df_path,\n",
    "                                      folder='test_images', suffix='.png'))\n",
    "learn = learn.load('search-b5-f1-v4-stage-2')\n",
    "\n",
    "opt = OptimizedRounder()\n",
    "preds, y = learn.get_preds(DatasetType.Test)\n",
    "test_preds = opt.predict(preds, coef)\n",
    "test_df.diagnosis = test_preds.astype(int)\n",
    "submission1 = test_df.copy()"
   ]
  },
  {
   "cell_type": "code",
   "execution_count": 10,
   "metadata": {},
   "outputs": [],
   "source": [
    "# model 02\n",
    "netname = 'efficientnet-b6'\n",
    "md_ef = EfficientNet.from_name(netname, override_params={'num_classes': 1})\n",
    "\n",
    "learn = Learner(data, md_ef, \n",
    "                metrics=[quadratic_kappa], model_dir=\"models\").to_fp16()\n",
    "\n",
    "df_path = '../input/aptos2019-blindness-detection'\n",
    "learn.data.add_test(ImageList.from_df(test_df, df_path,\n",
    "                                      folder='test_images', suffix='.png'))\n",
    "learn = learn.load('b6_f1_v4_stage_4_best')\n",
    "\n",
    "opt = OptimizedRounder()\n",
    "preds, y = learn.get_preds(DatasetType.Test)\n",
    "test_preds = opt.predict(preds, coef)\n",
    "test_df.diagnosis = test_preds.astype(int)\n",
    "submission2 = test_df.copy()"
   ]
  },
  {
   "cell_type": "code",
   "execution_count": 11,
   "metadata": {},
   "outputs": [],
   "source": [
    "# model 03\n",
    "netname = 'efficientnet-b7'\n",
    "md_ef = EfficientNet.from_name(netname, override_params={'num_classes': 1})\n",
    "\n",
    "learn = Learner(data, md_ef, \n",
    "                metrics=[quadratic_kappa], model_dir=\"models\").to_fp16()\n",
    "\n",
    "df_path = '../input/aptos2019-blindness-detection'\n",
    "learn.data.add_test(ImageList.from_df(test_df, df_path,\n",
    "                                      folder='test_images', suffix='.png'))\n",
    "learn = learn.load('b7_f1_v2_stage_5_best')\n",
    "\n",
    "opt = OptimizedRounder()\n",
    "preds, y = learn.get_preds(DatasetType.Test)\n",
    "test_preds = opt.predict(preds, coef)\n",
    "test_df.diagnosis = test_preds.astype(int)\n",
    "submission3 = test_df.copy()"
   ]
  },
  {
   "cell_type": "code",
   "execution_count": 12,
   "metadata": {},
   "outputs": [],
   "source": [
    "# model 04\n",
    "netname = 'efficientnet-b5'\n",
    "md_ef = EfficientNet.from_name(netname, override_params={'num_classes': 1})\n",
    "\n",
    "learn = Learner(data, md_ef, \n",
    "                metrics=[quadratic_kappa], model_dir=\"models\").to_fp16()\n",
    "\n",
    "df_path = '../input/aptos2019-blindness-detection'\n",
    "learn.data.add_test(ImageList.from_df(test_df, df_path,\n",
    "                                      folder='test_images', suffix='.png'))\n",
    "learn = learn.load('abcdef')\n",
    "\n",
    "opt = OptimizedRounder()\n",
    "preds, y = learn.get_preds(DatasetType.Test)\n",
    "test_preds = opt.predict(preds, coef)\n",
    "test_df.diagnosis = test_preds.astype(int)\n",
    "submission4 = test_df.copy()"
   ]
  },
  {
   "cell_type": "code",
   "execution_count": 13,
   "metadata": {},
   "outputs": [
    {
     "name": "stdout",
     "output_type": "stream",
     "text": [
      "[[0.    0.    1.    0.    0.   ]\n",
      " [0.    0.    0.725 0.275 0.   ]\n",
      " [0.    0.    1.    0.    0.   ]\n",
      " [0.    0.    1.    0.    0.   ]\n",
      " ...\n",
      " [0.    0.    1.    0.    0.   ]\n",
      " [0.    0.    0.725 0.275 0.   ]\n",
      " [0.    0.    0.    0.8   0.2  ]\n",
      " [0.375 0.275 0.35  0.    0.   ]]\n"
     ]
    },
    {
     "name": "stderr",
     "output_type": "stream",
     "text": [
      "/opt/conda/lib/python3.6/site-packages/tensorflow/python/framework/dtypes.py:516: FutureWarning: Passing (type, 1) or '1type' as a synonym of type is deprecated; in a future version of numpy, it will be understood as (type, (1,)) / '(1,)type'.\n",
      "  _np_qint8 = np.dtype([(\"qint8\", np.int8, 1)])\n",
      "/opt/conda/lib/python3.6/site-packages/tensorflow/python/framework/dtypes.py:517: FutureWarning: Passing (type, 1) or '1type' as a synonym of type is deprecated; in a future version of numpy, it will be understood as (type, (1,)) / '(1,)type'.\n",
      "  _np_quint8 = np.dtype([(\"quint8\", np.uint8, 1)])\n",
      "/opt/conda/lib/python3.6/site-packages/tensorflow/python/framework/dtypes.py:518: FutureWarning: Passing (type, 1) or '1type' as a synonym of type is deprecated; in a future version of numpy, it will be understood as (type, (1,)) / '(1,)type'.\n",
      "  _np_qint16 = np.dtype([(\"qint16\", np.int16, 1)])\n",
      "/opt/conda/lib/python3.6/site-packages/tensorflow/python/framework/dtypes.py:519: FutureWarning: Passing (type, 1) or '1type' as a synonym of type is deprecated; in a future version of numpy, it will be understood as (type, (1,)) / '(1,)type'.\n",
      "  _np_quint16 = np.dtype([(\"quint16\", np.uint16, 1)])\n",
      "/opt/conda/lib/python3.6/site-packages/tensorflow/python/framework/dtypes.py:520: FutureWarning: Passing (type, 1) or '1type' as a synonym of type is deprecated; in a future version of numpy, it will be understood as (type, (1,)) / '(1,)type'.\n",
      "  _np_qint32 = np.dtype([(\"qint32\", np.int32, 1)])\n",
      "/opt/conda/lib/python3.6/site-packages/tensorflow/python/framework/dtypes.py:525: FutureWarning: Passing (type, 1) or '1type' as a synonym of type is deprecated; in a future version of numpy, it will be understood as (type, (1,)) / '(1,)type'.\n",
      "  np_resource = np.dtype([(\"resource\", np.ubyte, 1)])\n",
      "/opt/conda/lib/python3.6/site-packages/tensorboard/compat/tensorflow_stub/dtypes.py:541: FutureWarning: Passing (type, 1) or '1type' as a synonym of type is deprecated; in a future version of numpy, it will be understood as (type, (1,)) / '(1,)type'.\n",
      "  _np_qint8 = np.dtype([(\"qint8\", np.int8, 1)])\n",
      "/opt/conda/lib/python3.6/site-packages/tensorboard/compat/tensorflow_stub/dtypes.py:542: FutureWarning: Passing (type, 1) or '1type' as a synonym of type is deprecated; in a future version of numpy, it will be understood as (type, (1,)) / '(1,)type'.\n",
      "  _np_quint8 = np.dtype([(\"quint8\", np.uint8, 1)])\n",
      "/opt/conda/lib/python3.6/site-packages/tensorboard/compat/tensorflow_stub/dtypes.py:543: FutureWarning: Passing (type, 1) or '1type' as a synonym of type is deprecated; in a future version of numpy, it will be understood as (type, (1,)) / '(1,)type'.\n",
      "  _np_qint16 = np.dtype([(\"qint16\", np.int16, 1)])\n",
      "/opt/conda/lib/python3.6/site-packages/tensorboard/compat/tensorflow_stub/dtypes.py:544: FutureWarning: Passing (type, 1) or '1type' as a synonym of type is deprecated; in a future version of numpy, it will be understood as (type, (1,)) / '(1,)type'.\n",
      "  _np_quint16 = np.dtype([(\"quint16\", np.uint16, 1)])\n",
      "/opt/conda/lib/python3.6/site-packages/tensorboard/compat/tensorflow_stub/dtypes.py:545: FutureWarning: Passing (type, 1) or '1type' as a synonym of type is deprecated; in a future version of numpy, it will be understood as (type, (1,)) / '(1,)type'.\n",
      "  _np_qint32 = np.dtype([(\"qint32\", np.int32, 1)])\n",
      "/opt/conda/lib/python3.6/site-packages/tensorboard/compat/tensorflow_stub/dtypes.py:550: FutureWarning: Passing (type, 1) or '1type' as a synonym of type is deprecated; in a future version of numpy, it will be understood as (type, (1,)) / '(1,)type'.\n",
      "  np_resource = np.dtype([(\"resource\", np.ubyte, 1)])\n"
     ]
    }
   ],
   "source": [
    "score = [0.786, 0.779, 0.773, 0.793]\n",
    "weight = [0.275, 0.2, 0.175, 0.35]\n",
    "subData = [submission1, submission2, submission3, submission4]\n",
    "\n",
    "numClass = 5\n",
    "subTemp = np.zeros((subData[0].shape[0], numClass))\n",
    "for i in range(len(subData)):\n",
    "    subTemp[subData[i].index, subData[i].diagnosis.tolist()] += weight[i]\n",
    "print(subTemp)\n",
    "\n",
    "sub = pd.read_csv('../input/aptos2019-blindness-detection/sample_submission.csv')\n",
    "sub['diagnosis'] = subTemp.argmax(1).astype(int)\n",
    "sub.to_csv('submission.csv', index=False)"
   ]
  },
  {
   "cell_type": "code",
   "execution_count": 14,
   "metadata": {},
   "outputs": [],
   "source": [
    "# valid_preds, valid_y = learn.get_preds(DatasetType.Valid)\n",
    "# optR = OptimizedRounder()\n",
    "# optR.fit(valid_preds, valid_y)\n",
    "# coefficients = optR.coefficients()\n",
    "# print(coefficients)"
   ]
  },
  {
   "cell_type": "code",
   "execution_count": 15,
   "metadata": {},
   "outputs": [],
   "source": [
    "def run_subm(learn=None, coefficients=[0.5, 1.5, 2.5, 3.5]):\n",
    "    opt = OptimizedRounder()\n",
    "    preds, y = learn.get_preds(DatasetType.Test)\n",
    "    test_preds = opt.predict(preds, coefficients)\n",
    "    test_df.diagnosis = test_preds.astype(int)\n",
    "    test_df.to_csv('submission.csv', index=False)\n",
    "    print ('done')"
   ]
  },
  {
   "cell_type": "code",
   "execution_count": 16,
   "metadata": {},
   "outputs": [],
   "source": [
    "# coef = [0.57, 1.37, 2.57, 3.57]\n",
    "# coef = [0.531918 1.573619 2.668338 3.259771]\n",
    "# run_subm(learn=learn, coefficients=coef)"
   ]
  },
  {
   "cell_type": "code",
   "execution_count": null,
   "metadata": {},
   "outputs": [],
   "source": []
  }
 ],
 "metadata": {
  "kernelspec": {
   "display_name": "Python 3",
   "language": "python",
   "name": "python3"
  },
  "language_info": {
   "codemirror_mode": {
    "name": "ipython",
    "version": 3
   },
   "file_extension": ".py",
   "mimetype": "text/x-python",
   "name": "python",
   "nbconvert_exporter": "python",
   "pygments_lexer": "ipython3",
   "version": "3.6.6"
  }
 },
 "nbformat": 4,
 "nbformat_minor": 1
}
