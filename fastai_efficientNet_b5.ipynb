{
 "cells": [
  {
   "cell_type": "markdown",
   "metadata": {},
   "source": [
    "EfficientNet-b5:\n",
    "* v1: 1st `fit_one_cycle(4, max_lr=5e-3)`, 2nd `fit_one_cycle(6, max_lr=1e-3)`\n",
    "* v3: 1st `fit_one_cycle(4, max_lr=3e-3)`, 2nd `fit_one_cycle(10, max_lr=1e-4)`\n",
    "* v4: 1st `fit_one_cycle(4, max_lr=3e-3)`, 2nd `fit_one_cycle(10, max_lr=1e-3)`\n",
    "* v6: 1st `fit_one_cycle(4, max_lr=3e-3)`, 2nd `fit_one_cycle(15, max_lr=1e-3)`\n",
    "* v7: "
   ]
  },
  {
   "cell_type": "code",
   "execution_count": 1,
   "metadata": {},
   "outputs": [
    {
     "name": "stdout",
     "output_type": "stream",
     "text": [
      "Make sure cudnn is enabled: True\n"
     ]
    }
   ],
   "source": [
    "%reload_ext autoreload\n",
    "%autoreload 2\n",
    "%matplotlib inline\n",
    "\n",
    "import os\n",
    "os.listdir('../input')\n",
    "import sys\n",
    "import random\n",
    "import json\n",
    "from functools import partial\n",
    "from collections import OrderedDict, Counter\n",
    "import numpy as np\n",
    "import pandas as pd\n",
    "import scipy as sp\n",
    "import matplotlib.pyplot as plt\n",
    "from PIL import Image\n",
    "\n",
    "from sklearn import metrics\n",
    "from sklearn.metrics import cohen_kappa_score\n",
    "\n",
    "import torch\n",
    "import torch.nn as nn\n",
    "from fastai import *\n",
    "from fastai.vision import *\n",
    "from fastai.vision import (cnn_learner, models, get_transforms, \n",
    "                           ImageList, FloatList, ResizeMethod, imagenet_stats,\n",
    "                           ClassificationInterpretation)\n",
    "from fastai.vision import Learner, DatasetType\n",
    "print('Make sure cudnn is enabled:', torch.backends.cudnn.enabled)"
   ]
  },
  {
   "cell_type": "code",
   "execution_count": 2,
   "metadata": {},
   "outputs": [],
   "source": [
    "effnet_pac_path = '../input/efficientnet-pytorch/efficientnet-pytorch/EfficientNet-PyTorch-master'\n",
    "sys.path.append(effnet_pac_path)\n",
    "from efficientnet_pytorch import EfficientNet"
   ]
  },
  {
   "cell_type": "code",
   "execution_count": 3,
   "metadata": {},
   "outputs": [],
   "source": [
    "# Making pretrained weights work without needing to find the default filename\n",
    "if not os.path.exists('/tmp/.cache/torch/checkpoints/'):\n",
    "        os.makedirs('/tmp/.cache/torch/checkpoints/')\n",
    "# !cp '../input/resnet50/resnet50.pth' '/tmp/.cache/torch/checkpoints/resnet50-19c8e357.pth'"
   ]
  },
  {
   "cell_type": "code",
   "execution_count": 4,
   "metadata": {},
   "outputs": [],
   "source": [
    "def seed_everything(seed):\n",
    "    random.seed(seed)\n",
    "    os.environ['PYTHONHASHSEED'] = str(seed)\n",
    "    np.random.seed(seed)\n",
    "    torch.manual_seed(seed)\n",
    "    torch.cuda.manual_seed(seed)\n",
    "    torch.backends.cudnn.deterministic = True\n",
    "\n",
    "SEED = 2019  # 999\n",
    "seed_everything(SEED)"
   ]
  },
  {
   "cell_type": "code",
   "execution_count": 5,
   "metadata": {},
   "outputs": [
    {
     "name": "stdout",
     "output_type": "stream",
     "text": [
      "(3662, 2)\n"
     ]
    }
   ],
   "source": [
    "base_image_dir = '../input/aptos2019-blindness-detection/'\n",
    "train_dir = os.path.join(base_image_dir,'train_images/')\n",
    "df = pd.read_csv(os.path.join(base_image_dir, 'train.csv'))\n",
    "df['path'] = df['id_code'].map(lambda x: os.path.join(train_dir,'{}.png'.format(x)))\n",
    "df = df.drop(columns=['id_code'])\n",
    "df = df.sample(frac=1).reset_index(drop=True) #shuffle dataframe\n",
    "print(df.shape)"
   ]
  },
  {
   "cell_type": "code",
   "execution_count": 6,
   "metadata": {},
   "outputs": [],
   "source": [
    "bs = BATCH_SIZE = 32  # 64 # smaller batch size is better for training, but may take longer\n",
    "sz = IMG_SIZE = 256"
   ]
  },
  {
   "cell_type": "code",
   "execution_count": 7,
   "metadata": {},
   "outputs": [],
   "source": [
    "tfms = get_transforms(do_flip=True, flip_vert=True, max_rotate=360, max_warp=0, max_zoom=1.1, max_lighting=0.1, p_lighting=0.5)\n",
    "src = (ImageList\n",
    "    .from_df(df=df,path='./',cols='path') #get dataset from dataset\n",
    "    .split_by_rand_pct(0.2) #Splitting the dataset\n",
    "    .label_from_df(cols='diagnosis',label_cls=FloatList) #obtain labels from the level column\n",
    ")\n",
    "data= (src\n",
    "    .transform(tfms, size=IMG_SIZE, resize_method=ResizeMethod.SQUISH, padding_mode='zeros') #Data augmentation\n",
    "    .databunch(bs=BATCH_SIZE, num_workers=4) #DataBunch\n",
    "    .normalize(imagenet_stats) #Normalize\n",
    ")"
   ]
  },
  {
   "cell_type": "markdown",
   "metadata": {},
   "source": [
    "## Training (Transfer learning)"
   ]
  },
  {
   "cell_type": "code",
   "execution_count": 8,
   "metadata": {},
   "outputs": [],
   "source": [
    "def quadratic_kappa(y_hat, y):\n",
    "    scores = cohen_kappa_score(torch.round(y_hat), y, weights='quadratic')\n",
    "    return torch.tensor(scores, device='cuda:0')"
   ]
  },
  {
   "cell_type": "code",
   "execution_count": 9,
   "metadata": {},
   "outputs": [],
   "source": [
    "def load_efficientnet(model_name='efficientnet-b7', model_path=None, pretrained=True):\n",
    "    model = EfficientNet.from_name(model_name, override_params={'num_classes': 1})\n",
    "    if not pretrained:\n",
    "        return model\n",
    "    \n",
    "    model_state = torch.load(model_path)\n",
    "    if '_fc.weight' in model_state.keys():\n",
    "        model_state.pop('_fc.weight')\n",
    "        model_state.pop('_fc.bias')\n",
    "        res = model.load_state_dict(model_state, strict=False)\n",
    "        assert str(res.missing_keys) == str(['_fc.weight', '_fc.bias']), 'issue loading pretrained weights'\n",
    "    else:\n",
    "        # A basic remapping is required\n",
    "        mapping = { i:o for i,o in zip(model_state.keys(), model.state_dict().keys()) }\n",
    "        mapped_model_state = OrderedDict([\n",
    "            (mapping[k], v) for k,v in model_state.items() if not mapping[k].startswith('_fc')\n",
    "        ])\n",
    "        res = model.load_state_dict(mapped_model_state, strict=False)\n",
    "        # print(res)\n",
    "    return model"
   ]
  },
  {
   "cell_type": "code",
   "execution_count": 10,
   "metadata": {},
   "outputs": [],
   "source": [
    "effnet_path = '../input/efficientnet-pytorch/efficientnet-b5-586e6cc6.pth'\n",
    "model = load_efficientnet(model_name='efficientnet-b5', model_path=effnet_path)"
   ]
  },
  {
   "cell_type": "code",
   "execution_count": 11,
   "metadata": {},
   "outputs": [],
   "source": [
    "learn = Learner(data, model, metrics=[quadratic_kappa]).to_fp16()"
   ]
  },
  {
   "cell_type": "code",
   "execution_count": 12,
   "metadata": {},
   "outputs": [],
   "source": [
    "# learn.lr_find()\n",
    "# learn.recorder.plot(suggestion=True)\n",
    "# learn.fit_one_cycle(4, max_lr=3e-3)\n",
    "# learn.save('stage-1')"
   ]
  },
  {
   "cell_type": "code",
   "execution_count": 13,
   "metadata": {},
   "outputs": [],
   "source": [
    "# learn.recorder.plot_losses()\n",
    "# learn.recorder.plot_metrics()"
   ]
  },
  {
   "cell_type": "code",
   "execution_count": 14,
   "metadata": {},
   "outputs": [],
   "source": [
    "!mkdir models\n",
    "!cp '../input/searchb5stage1/search-b5-stage-1.pth' 'models'"
   ]
  },
  {
   "cell_type": "code",
   "execution_count": 15,
   "metadata": {},
   "outputs": [],
   "source": [
    "learn = learn.load('search-b5-stage-1')"
   ]
  },
  {
   "cell_type": "code",
   "execution_count": 16,
   "metadata": {},
   "outputs": [
    {
     "data": {
      "text/html": [],
      "text/plain": [
       "<IPython.core.display.HTML object>"
      ]
     },
     "metadata": {},
     "output_type": "display_data"
    },
    {
     "name": "stdout",
     "output_type": "stream",
     "text": [
      "LR Finder is complete, type {learner_name}.recorder.plot() to see the graph.\n",
      "Min numerical gradient: 1.58E-06\n",
      "Min loss divided by 10: 2.51E-06\n"
     ]
    },
    {
     "data": {
      "image/png": "[encoded data removed]",
      "text/plain": [
       "<Figure size 432x288 with 1 Axes>"
      ]
     },
     "metadata": {
      "needs_background": "light"
     },
     "output_type": "display_data"
    }
   ],
   "source": [
    "learn.unfreeze()\n",
    "learn.lr_find()\n",
    "learn.recorder.plot(suggestion=True)"
   ]
  },
  {
   "cell_type": "code",
   "execution_count": 17,
   "metadata": {},
   "outputs": [
    {
     "data": {
      "text/html": [
       "<table border=\"1\" class=\"dataframe\">\n",
       "  <thead>\n",
       "    <tr style=\"text-align: left;\">\n",
       "      <th>epoch</th>\n",
       "      <th>train_loss</th>\n",
       "      <th>valid_loss</th>\n",
       "      <th>quadratic_kappa</th>\n",
       "      <th>time</th>\n",
       "    </tr>\n",
       "  </thead>\n",
       "  <tbody>\n",
       "    <tr>\n",
       "      <td>0</td>\n",
       "      <td>0.252888</td>\n",
       "      <td>0.273078</td>\n",
       "      <td>0.906176</td>\n",
       "      <td>08:41</td>\n",
       "    </tr>\n",
       "    <tr>\n",
       "      <td>1</td>\n",
       "      <td>0.247949</td>\n",
       "      <td>0.342437</td>\n",
       "      <td>0.889866</td>\n",
       "      <td>08:43</td>\n",
       "    </tr>\n",
       "    <tr>\n",
       "      <td>2</td>\n",
       "      <td>0.253824</td>\n",
       "      <td>0.390762</td>\n",
       "      <td>0.874943</td>\n",
       "      <td>08:39</td>\n",
       "    </tr>\n",
       "    <tr>\n",
       "      <td>3</td>\n",
       "      <td>0.302515</td>\n",
       "      <td>0.510608</td>\n",
       "      <td>0.809100</td>\n",
       "      <td>08:40</td>\n",
       "    </tr>\n",
       "    <tr>\n",
       "      <td>4</td>\n",
       "      <td>0.279757</td>\n",
       "      <td>0.354113</td>\n",
       "      <td>0.888459</td>\n",
       "      <td>08:42</td>\n",
       "    </tr>\n",
       "    <tr>\n",
       "      <td>5</td>\n",
       "      <td>0.251273</td>\n",
       "      <td>0.290000</td>\n",
       "      <td>0.887192</td>\n",
       "      <td>08:41</td>\n",
       "    </tr>\n",
       "    <tr>\n",
       "      <td>6</td>\n",
       "      <td>0.221042</td>\n",
       "      <td>0.277762</td>\n",
       "      <td>0.900999</td>\n",
       "      <td>08:40</td>\n",
       "    </tr>\n",
       "    <tr>\n",
       "      <td>7</td>\n",
       "      <td>0.191918</td>\n",
       "      <td>0.250061</td>\n",
       "      <td>0.908595</td>\n",
       "      <td>08:40</td>\n",
       "    </tr>\n",
       "    <tr>\n",
       "      <td>8</td>\n",
       "      <td>0.170254</td>\n",
       "      <td>0.241846</td>\n",
       "      <td>0.920448</td>\n",
       "      <td>08:41</td>\n",
       "    </tr>\n",
       "    <tr>\n",
       "      <td>9</td>\n",
       "      <td>0.159525</td>\n",
       "      <td>0.240028</td>\n",
       "      <td>0.917388</td>\n",
       "      <td>08:41</td>\n",
       "    </tr>\n",
       "  </tbody>\n",
       "</table>"
      ],
      "text/plain": [
       "<IPython.core.display.HTML object>"
      ]
     },
     "metadata": {},
     "output_type": "display_data"
    }
   ],
   "source": [
    "learn.fit_one_cycle(10, max_lr=1e-3)"
   ]
  },
  {
   "cell_type": "code",
   "execution_count": 18,
   "metadata": {},
   "outputs": [
    {
     "data": {
      "image/png": "[encoded data removed]",
      "text/plain": [
       "<Figure size 432x288 with 1 Axes>"
      ]
     },
     "metadata": {
      "needs_background": "light"
     },
     "output_type": "display_data"
    },
    {
     "data": {
      "image/png": "[encoded data removed]",
      "text/plain": [
       "<Figure size 432x288 with 1 Axes>"
      ]
     },
     "metadata": {
      "needs_background": "light"
     },
     "output_type": "display_data"
    }
   ],
   "source": [
    "learn.recorder.plot_losses()\n",
    "learn.recorder.plot_metrics()"
   ]
  },
  {
   "cell_type": "code",
   "execution_count": 19,
   "metadata": {},
   "outputs": [],
   "source": [
    "learn.export()\n",
    "learn.save('stage-2')"
   ]
  },
  {
   "cell_type": "code",
   "execution_count": 20,
   "metadata": {},
   "outputs": [
    {
     "data": {
      "text/html": [],
      "text/plain": [
       "<IPython.core.display.HTML object>"
      ]
     },
     "metadata": {},
     "output_type": "display_data"
    },
    {
     "name": "stdout",
     "output_type": "stream",
     "text": [
      "LR Finder is complete, type {learner_name}.recorder.plot() to see the graph.\n",
      "Min numerical gradient: 6.31E-07\n",
      "Min loss divided by 10: 2.29E-07\n"
     ]
    },
    {
     "data": {
      "image/png": "[encoded data removed]",
      "text/plain": [
       "<Figure size 432x288 with 1 Axes>"
      ]
     },
     "metadata": {
      "needs_background": "light"
     },
     "output_type": "display_data"
    }
   ],
   "source": [
    "learn.unfreeze()\n",
    "learn.lr_find()\n",
    "learn.recorder.plot(suggestion=True)"
   ]
  }
 ],
 "metadata": {
  "kernelspec": {
   "display_name": "Python 3",
   "language": "python",
   "name": "python3"
  },
  "language_info": {
   "codemirror_mode": {
    "name": "ipython",
    "version": 3
   },
   "file_extension": ".py",
   "mimetype": "text/x-python",
   "name": "python",
   "nbconvert_exporter": "python",
   "pygments_lexer": "ipython3",
   "version": "3.6.6"
  }
 },
 "nbformat": 4,
 "nbformat_minor": 1
}
